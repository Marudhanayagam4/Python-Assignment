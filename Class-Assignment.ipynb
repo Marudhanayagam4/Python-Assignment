{
 "cells": [
  {
   "cell_type": "code",
   "execution_count": 1,
   "id": "2f9758b8-46b1-4a08-a999-e98d8553bfcf",
   "metadata": {},
   "outputs": [
    {
     "name": "stdout",
     "output_type": "stream",
     "text": [
      "Sub-fields in AI are:\n",
      "Machine Learning\n",
      "Neural Networks\n",
      "Vision\n",
      "Robotics\n",
      "Speech processing\n",
      "Natural Language Processing\n"
     ]
    }
   ],
   "source": [
    "# list out the items in the list\n",
    "\n",
    "class SubfieldsInAI():\n",
    "    def Subfields():\n",
    "        lists= [\"Machine Learning\", \"Neural Networks\", \"Vision\", \"Robotics\", \"Speech processing\", \"Natural Language Processing\"]\n",
    "        print(\"Sub-fields in AI are:\", end=\"\\n\")\n",
    "    \n",
    "        for sub in lists :\n",
    "            print(sub, end=\"\\n\")\n",
    "SubfieldsInAI.Subfields()"
   ]
  },
  {
   "cell_type": "code",
   "execution_count": 3,
   "id": "f964de3b-1a99-4328-81bc-3162d793a936",
   "metadata": {},
   "outputs": [
    {
     "name": "stdin",
     "output_type": "stream",
     "text": [
      "Enter a number: 5446\n"
     ]
    },
    {
     "name": "stdout",
     "output_type": "stream",
     "text": [
      "5446 is Even number"
     ]
    }
   ],
   "source": [
    "# Create a function that checks whether the given number is odd or even\n",
    "\n",
    "class OddEven():\n",
    "    def OddEven():\n",
    "        num = int(input(\"Enter a number:\"))\n",
    "        if (num%2==0) :\n",
    "            print(num, end=\" is Even number\")\n",
    "        else:\n",
    "            print(num, end=\" is Odd number\")\n",
    "OddEven.OddEven()"
   ]
  },
  {
   "cell_type": "code",
   "execution_count": 10,
   "id": "5ba2a970-3d5f-41b0-be87-ff0549d28f48",
   "metadata": {},
   "outputs": [
    {
     "name": "stdin",
     "output_type": "stream",
     "text": [
      "Your Gender: male\n",
      "Your Age 18\n"
     ]
    },
    {
     "name": "stdout",
     "output_type": "stream",
     "text": [
      "NOT ELIGIBLE\n"
     ]
    }
   ],
   "source": [
    "# Create a funtion that tells eligiblity of marraige for male and female according to their age limit like 21 for male and 18 for female\n",
    "\n",
    "class EligibilityForMarraige():\n",
    "    def Eligible() :\n",
    "        gender = input(\"Your Gender:\")\n",
    "        age = int(input(\"Your Age\"))\n",
    "    \n",
    "        if(gender==\"Male\" or gender==\"male\"):\n",
    "            if(age<21) :\n",
    "                message = \"NOT ELIGIBLE\"\n",
    "            else:\n",
    "                message= \"ELIGIBLE\"\n",
    "        else:\n",
    "            if(age<18):\n",
    "                message = \"NOT ELIGIBLE\"\n",
    "            else:\n",
    "                message= \"ELIGIBLE\"\n",
    "        return message\n",
    "\n",
    "message=EligibilityForMarraige.Eligible()\n",
    "print(message)"
   ]
  },
  {
   "cell_type": "code",
   "execution_count": 5,
   "id": "ffcb5f27-9e2a-4148-82ba-5f7f88ee0aa2",
   "metadata": {},
   "outputs": [
    {
     "name": "stdout",
     "output_type": "stream",
     "text": [
      "Subject1: 98\n",
      "Subject2: 87\n",
      "Subject3: 95\n",
      "Subject4: 95\n",
      "Subject5: 93\n",
      "Total: 468\n",
      "Percentage: 93.6\n"
     ]
    }
   ],
   "source": [
    "# Calculate the percentage of your 10th mark\n",
    "\n",
    "class FindPercent():\n",
    "    def percentage(Subject1, Subject2, Subject3, Subject4, Subject5):\n",
    "        Total = Subject1+Subject2+Subject3+Subject4+Subject5\n",
    "        \n",
    "        Percentage= Total/5\n",
    "        print(\"Subject1:\",Subject1)\n",
    "        print(\"Subject2:\",Subject2)\n",
    "        print(\"Subject3:\",Subject3)\n",
    "        print(\"Subject4:\",Subject4)\n",
    "        print(\"Subject5:\",Subject5)\n",
    "        print(\"Total:\",Total)\n",
    "        print(\"Percentage:\",Percentage)\n",
    "    \n",
    "FindPercent.percentage(98,87,95,95,93)"
   ]
  },
  {
   "cell_type": "code",
   "execution_count": 8,
   "id": "9cb9006f-42f8-4d3a-a0b0-128be15c4fe9",
   "metadata": {},
   "outputs": [
    {
     "name": "stdin",
     "output_type": "stream",
     "text": [
      "Height: 32\n",
      "Breadth: 34\n"
     ]
    },
    {
     "name": "stdout",
     "output_type": "stream",
     "text": [
      "Area formula: (Height*Breadth)/2\n",
      "Area of Triangle: 544.0\n"
     ]
    },
    {
     "name": "stdin",
     "output_type": "stream",
     "text": [
      "Height1: 2\n",
      "Height2: 4\n",
      "Breadth: 4\n"
     ]
    },
    {
     "name": "stdout",
     "output_type": "stream",
     "text": [
      "Perimeter formula: Height1+Height2+Breadth\n",
      "Perimeter of Triangle: 10.0\n"
     ]
    }
   ],
   "source": [
    "# print area and perimeter of triangle using class and functions\n",
    "\n",
    "\n",
    "class Triangle():\n",
    "    def triangle():\n",
    "        Height=float(input(\"Height:\"))\n",
    "        Breadth=float(input(\"Breadth:\"))\n",
    "        print(\"Area formula: (Height*Breadth)/2\")\n",
    "        Area= (Height*Breadth)/2\n",
    "        print(\"Area of Triangle:\",Area)\n",
    "        \n",
    "        Height1=float(input(\"Height1:\"))\n",
    "        Height2=float(input(\"Height2:\"))\n",
    "        Breadth=float(input(\"Breadth:\"))\n",
    "        print(\"Perimeter formula: Height1+Height2+Breadth\")\n",
    "        perimeter=Height1+Height2+Breadth\n",
    "        print(\"Perimeter of Triangle:\",perimeter)\n",
    "      \n",
    "Triangle.triangle()"
   ]
  },
  {
   "cell_type": "code",
   "execution_count": null,
   "id": "76858141-bbcd-4247-b289-bf43902a56f2",
   "metadata": {},
   "outputs": [],
   "source": []
  }
 ],
 "metadata": {
  "kernelspec": {
   "display_name": "Python 3 (ipykernel)",
   "language": "python",
   "name": "python3"
  },
  "language_info": {
   "codemirror_mode": {
    "name": "ipython",
    "version": 3
   },
   "file_extension": ".py",
   "mimetype": "text/x-python",
   "name": "python",
   "nbconvert_exporter": "python",
   "pygments_lexer": "ipython3",
   "version": "3.12.4"
  }
 },
 "nbformat": 4,
 "nbformat_minor": 5
}
