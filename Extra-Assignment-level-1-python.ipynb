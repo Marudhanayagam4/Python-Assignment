{
 "cells": [
  {
   "cell_type": "code",
   "execution_count": 1,
   "id": "4c844168-0a34-4f98-9662-950d918a9bc6",
   "metadata": {},
   "outputs": [
    {
     "name": "stdout",
     "output_type": "stream",
     "text": [
      "HOPE AI\n"
     ]
    }
   ],
   "source": [
    "# print statement\n",
    "\n",
    "print(\"HOPE AI\")"
   ]
  },
  {
   "cell_type": "code",
   "execution_count": 2,
   "id": "39e294f6-f47f-470c-b6c3-37aefd2e1d7c",
   "metadata": {},
   "outputs": [
    {
     "name": "stdin",
     "output_type": "stream",
     "text": [
      "Enter your institute name? :  HOPE AI\n"
     ]
    }
   ],
   "source": [
    "# Buy Input\n",
    "\n",
    "name = input(\"Enter your institute name? : \")"
   ]
  },
  {
   "cell_type": "code",
   "execution_count": 3,
   "id": "222a32d3-d0fb-41ad-bd24-1783691dc91f",
   "metadata": {},
   "outputs": [
    {
     "name": "stdin",
     "output_type": "stream",
     "text": [
      "Enter your name:  Raj\n",
      "Enter your age:  15\n",
      "Enter your school name:  Guru school\n",
      "Enter your degree:  B.E CSE\n"
     ]
    }
   ],
   "source": [
    "# But Inputs\n",
    "\n",
    "name= input(\"Enter your name: \")\n",
    "age= int(input(\"Enter your age: \"))\n",
    "schoolName= input(\"Enter your school name: \")\n",
    "degree= input(\"Enter your degree: \")"
   ]
  },
  {
   "cell_type": "code",
   "execution_count": 5,
   "id": "bc1e9a36-0b08-4f88-81b7-f033b0e54978",
   "metadata": {},
   "outputs": [
    {
     "name": "stdout",
     "output_type": "stream",
     "text": [
      "a= 43\n",
      "b= 34\n",
      "add= 77\n"
     ]
    }
   ],
   "source": [
    "# Addition\n",
    "a= 43\n",
    "b= 34\n",
    "add= a+b\n",
    "\n",
    "print(\"a=\",a)\n",
    "print(\"b=\",b)\n",
    "print(\"add=\",add)"
   ]
  },
  {
   "cell_type": "code",
   "execution_count": 6,
   "id": "176759bb-1777-47f1-9d8c-ed38ee44e698",
   "metadata": {},
   "outputs": [
    {
     "name": "stdout",
     "output_type": "stream",
     "text": [
      "a= 43\n",
      "b= 34\n",
      "Sub= 9\n"
     ]
    }
   ],
   "source": [
    "# Subtraction\n",
    "\n",
    "a= 43\n",
    "b= 34\n",
    "Sub= a-b\n",
    "\n",
    "print(\"a=\",a)\n",
    "print(\"b=\",b)\n",
    "print(\"Sub=\",Sub)\n",
    "\n"
   ]
  },
  {
   "cell_type": "code",
   "execution_count": 7,
   "id": "be62a813-d2f5-497c-8fee-f5617316d4ed",
   "metadata": {},
   "outputs": [
    {
     "name": "stdout",
     "output_type": "stream",
     "text": [
      "a= 63\n",
      "b= 97\n",
      "Mul= 6111\n"
     ]
    }
   ],
   "source": [
    "# Multiplication\n",
    "\n",
    "a= 63\n",
    "b= 97\n",
    "Mul= a*b\n",
    "\n",
    "print(\"a=\",a)\n",
    "print(\"b=\",b)\n",
    "print(\"Mul=\",Mul)"
   ]
  },
  {
   "cell_type": "code",
   "execution_count": 9,
   "id": "6238ff2d-79b4-4fcd-9685-4d4e06f05677",
   "metadata": {},
   "outputs": [
    {
     "name": "stdout",
     "output_type": "stream",
     "text": [
      "a= 76\n",
      "b= 31\n",
      "Float Div= 2.4516129032258065\n"
     ]
    }
   ],
   "source": [
    "# Division\n",
    "\n",
    "a= 76\n",
    "b= 31\n",
    "Div= a/b\n",
    "\n",
    "print(\"a=\",a)\n",
    "print(\"b=\",b)\n",
    "print(\"Float Div=\",Div)"
   ]
  },
  {
   "cell_type": "code",
   "execution_count": 10,
   "id": "813ce2f8-1a29-4c4d-9715-2b1bf2d2a74c",
   "metadata": {},
   "outputs": [
    {
     "name": "stdout",
     "output_type": "stream",
     "text": [
      "a= 76\n",
      "b= 31\n",
      "Floor Div= 2\n"
     ]
    }
   ],
   "source": [
    "# Floor Division\n",
    "\n",
    "a= 76\n",
    "b= 31\n",
    "Div= a//b\n",
    "\n",
    "print(\"a=\",a)\n",
    "print(\"b=\",b)\n",
    "print(\"Floor Div=\",Div)"
   ]
  },
  {
   "cell_type": "code",
   "execution_count": 11,
   "id": "21484463-d24d-4874-9041-6eb09876e915",
   "metadata": {},
   "outputs": [
    {
     "name": "stdout",
     "output_type": "stream",
     "text": [
      "a= 76\n",
      "b= 31\n",
      "Modulo= 14\n"
     ]
    }
   ],
   "source": [
    "# Modulo\n",
    "\n",
    "a= 76\n",
    "b= 31\n",
    "Modulo= a%b\n",
    "\n",
    "print(\"a=\",a)\n",
    "print(\"b=\",b)\n",
    "print(\"Modulo=\",Modulo)"
   ]
  },
  {
   "cell_type": "code",
   "execution_count": 12,
   "id": "33eafa7b-e477-4189-930b-464aec2cbe1f",
   "metadata": {},
   "outputs": [
    {
     "name": "stdout",
     "output_type": "stream",
     "text": [
      "a= 4\n",
      "b= 4\n",
      "Power= 256\n"
     ]
    }
   ],
   "source": [
    "# Power\n",
    "\n",
    "a= 4\n",
    "b= 4\n",
    "Power= a**b\n",
    "\n",
    "print(\"a=\",a)\n",
    "print(\"b=\",b)\n",
    "print(\"Power=\",Power)"
   ]
  },
  {
   "cell_type": "code",
   "execution_count": null,
   "id": "8d946455-058c-4c1a-bfcf-0dda06184801",
   "metadata": {},
   "outputs": [],
   "source": []
  }
 ],
 "metadata": {
  "kernelspec": {
   "display_name": "Python 3 (ipykernel)",
   "language": "python",
   "name": "python3"
  },
  "language_info": {
   "codemirror_mode": {
    "name": "ipython",
    "version": 3
   },
   "file_extension": ".py",
   "mimetype": "text/x-python",
   "name": "python",
   "nbconvert_exporter": "python",
   "pygments_lexer": "ipython3",
   "version": "3.12.4"
  }
 },
 "nbformat": 4,
 "nbformat_minor": 5
}
