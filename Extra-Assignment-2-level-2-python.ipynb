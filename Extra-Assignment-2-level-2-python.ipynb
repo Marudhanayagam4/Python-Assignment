{
 "cells": [
  {
   "cell_type": "code",
   "execution_count": 1,
   "id": "b459d940-1a42-4546-a030-cde68f6fa7e7",
   "metadata": {},
   "outputs": [
    {
     "name": "stdout",
     "output_type": "stream",
     "text": [
      "0\n",
      "1\n",
      "2\n",
      "3\n",
      "4\n",
      "5\n",
      "6\n",
      "7\n",
      "8\n",
      "9\n",
      "10\n",
      "11\n",
      "12\n",
      "13\n",
      "14\n",
      "15\n",
      "16\n",
      "17\n",
      "18\n",
      "19\n"
     ]
    }
   ],
   "source": [
    "# print 0 to 20 using range\n",
    "\n",
    "for num in range (0,20) :\n",
    "    print(num)"
   ]
  },
  {
   "cell_type": "code",
   "execution_count": 15,
   "id": "e1d597ae-49ef-40d9-bd77-2c8d9b58afac",
   "metadata": {},
   "outputs": [
    {
     "name": "stdout",
     "output_type": "stream",
     "text": [
      "10 11 12 13 14 15 16 17 18 19\n"
     ]
    }
   ],
   "source": [
    "# print range 10 to 20\n",
    "\n",
    "#------Solution 1-------\n",
    "# for i in range (10,20) :\n",
    "#     print (i, end=\" \" )\n",
    "\n",
    "\n",
    "#-------Solution 2-------------\n",
    "# str_1=\" \"\n",
    "# for i in range(10, 20) :\n",
    "#     str_1 += str(i) + \" \"\n",
    "\n",
    "# print (str_1)\n",
    "\n",
    "#----------Solution 3--------------\n",
    "print ( ' '.join([str(i) for i in range (10,20)]))"
   ]
  },
  {
   "cell_type": "code",
   "execution_count": 16,
   "id": "7ecb2be3-0785-43be-9ba6-dc21d5563356",
   "metadata": {},
   "outputs": [
    {
     "name": "stdout",
     "output_type": "stream",
     "text": [
      "[10, 20, 14, 55, 43, 87, 76]\n",
      "Number of item in the List: 7\n"
     ]
    }
   ],
   "source": [
    "# print number of items in the list by using 'list'\n",
    "\n",
    "List = [10, 20, 14, 55, 43, 87, 76]\n",
    "\n",
    "length = len(List)\n",
    "print(List)\n",
    "print (\"Number of item in the List:\", length)"
   ]
  },
  {
   "cell_type": "code",
   "execution_count": 4,
   "id": "94e92b26-01f3-48ea-b0e5-c9de1b00618a",
   "metadata": {},
   "outputs": [
    {
     "name": "stdout",
     "output_type": "stream",
     "text": [
      "Marudhanayagam\n",
      "25\n",
      "Student\n"
     ]
    }
   ],
   "source": [
    "list = [\"Marudhanayagam\",25,\"Student\"]\n",
    "for elements in list:\n",
    "    print(elements)"
   ]
  },
  {
   "cell_type": "code",
   "execution_count": 1,
   "id": "de6712ea-9816-4ad8-9b19-37caa6b5274b",
   "metadata": {},
   "outputs": [
    {
     "name": "stdout",
     "output_type": "stream",
     "text": [
      "ARTIFICIAL INTELLIGENCE\n",
      "A\n",
      "R\n",
      "T\n",
      "I\n",
      "F\n",
      "I\n",
      "C\n",
      "I\n",
      "A\n",
      "L\n",
      " \n",
      "I\n",
      "N\n",
      "T\n",
      "E\n",
      "L\n",
      "L\n",
      "I\n",
      "G\n",
      "E\n",
      "N\n",
      "C\n",
      "E\n"
     ]
    }
   ],
   "source": [
    "\n",
    "#--------Solution 2--------\n",
    "# i = 0\n",
    "# text= \"ARTIFICIAL INTELLIGENCE\"\n",
    "# while i < len(text) :\n",
    "#     print(text[i])\n",
    "#     i += 1\n",
    "\n",
    "#---------Solution 2---------\n",
    "string = \"ARTIFICIAL INTELLIGENCE\"\n",
    "print(string)\n",
    "for character in string :\n",
    "    print(character)\n",
    "\n"
   ]
  },
  {
   "cell_type": "code",
   "execution_count": 26,
   "id": "8b713486-6f8b-42a4-bf86-42c0c2e1d863",
   "metadata": {},
   "outputs": [
    {
     "name": "stdout",
     "output_type": "stream",
     "text": [
      "(1, 'Welcome', 2, 'Hope')\n"
     ]
    }
   ],
   "source": [
    "# Tuple\n",
    "\n",
    "tuple_1 = ( 1, 'Welcome', 2, 'Hope' )\n",
    "print (tuple_1)"
   ]
  },
  {
   "cell_type": "code",
   "execution_count": 27,
   "id": "7e16c9bb-d119-4681-b64d-8a4f06688cf8",
   "metadata": {},
   "outputs": [
    {
     "name": "stdout",
     "output_type": "stream",
     "text": [
      "((0, 1, 2, 3), ('python', 'HOPE'))\n"
     ]
    }
   ],
   "source": [
    "tuple1 = (0,1,2,3)\n",
    "tuple2 = ('python', 'HOPE')\n",
    "\n",
    "tuple3 = (tuple1, tuple2)\n",
    "print(tuple3)"
   ]
  },
  {
   "cell_type": "code",
   "execution_count": 28,
   "id": "af6bbf1b-cba8-4840-b37f-9f833cd94252",
   "metadata": {},
   "outputs": [
    {
     "name": "stdout",
     "output_type": "stream",
     "text": [
      "(0, 1, 2, 3, 'python', 'HOPE')\n"
     ]
    }
   ],
   "source": [
    "tuple1 = (0,1,2,3)\n",
    "tuple2 = ('python', 'HOPE')\n",
    "\n",
    "tuple3 = tuple1+tuple2\n",
    "print(tuple3)"
   ]
  },
  {
   "cell_type": "code",
   "execution_count": 3,
   "id": "67c7b8f9-b372-4d88-a978-f6f57c2e5ed5",
   "metadata": {},
   "outputs": [
    {
     "name": "stdout",
     "output_type": "stream",
     "text": [
      "19 is odd \n",
      "25 is odd \n",
      "1 is odd \n"
     ]
    }
   ],
   "source": [
    "# print Odd number in the list\n",
    "\n",
    "list = [20,10,16,19,25,0,1,276,188]\n",
    "\n",
    "for num in list :\n",
    "    if (num % 2 == 1) :\n",
    "        print(num, end=\" is odd \\n\")\n",
    "        \n",
    "        \n",
    "    "
   ]
  },
  {
   "cell_type": "code",
   "execution_count": 36,
   "id": "155bb0f0-4ff9-45e0-86ee-ddf11757724e",
   "metadata": {},
   "outputs": [
    {
     "name": "stdout",
     "output_type": "stream",
     "text": [
      "20 is even \n",
      "10 is even \n",
      "16 is even \n",
      "276 is even \n",
      "188 is even \n"
     ]
    }
   ],
   "source": [
    "# print Even number in the list\n",
    "\n",
    "list = [20,10,16,19,25,1,276,188]\n",
    "\n",
    "for num in list :\n",
    "    if (num%2==0) :\n",
    "        print(num, end=' is even \\n')"
   ]
  },
  {
   "cell_type": "code",
   "execution_count": null,
   "id": "2ff09dd0-35d5-4961-b086-c4f9acc73ba7",
   "metadata": {},
   "outputs": [],
   "source": []
  }
 ],
 "metadata": {
  "kernelspec": {
   "display_name": "Python 3 (ipykernel)",
   "language": "python",
   "name": "python3"
  },
  "language_info": {
   "codemirror_mode": {
    "name": "ipython",
    "version": 3
   },
   "file_extension": ".py",
   "mimetype": "text/x-python",
   "name": "python",
   "nbconvert_exporter": "python",
   "pygments_lexer": "ipython3",
   "version": "3.12.4"
  }
 },
 "nbformat": 4,
 "nbformat_minor": 5
}
