{
 "cells": [
  {
   "cell_type": "markdown",
   "id": "2c7f59d3-a535-4604-8e7a-00b2a7e162a5",
   "metadata": {},
   "source": [
    "              "
   ]
  },
  {
   "cell_type": "code",
   "execution_count": 2,
   "id": "ff5fdeec-1e53-471f-aa66-2bfeb626b0fb",
   "metadata": {},
   "outputs": [
    {
     "name": "stdout",
     "output_type": "stream",
     "text": [
      "Welcome to Assignment-1\n"
     ]
    }
   ],
   "source": [
    "# Task 1\n",
    "\n",
    "print (\"Welcome to Assignment-1\")"
   ]
  },
  {
   "cell_type": "code",
   "execution_count": 4,
   "id": "af96feaa-c1b3-4b4e-868f-564ca52bb3bd",
   "metadata": {},
   "outputs": [
    {
     "name": "stdout",
     "output_type": "stream",
     "text": [
      "Num1=  10\n",
      "Num2=  30\n",
      "Add=  40\n"
     ]
    }
   ],
   "source": [
    "# Task 2\n",
    "\n",
    "Num1 = 10\n",
    "Num2 = 30\n",
    "Add = Num1 + Num2\n",
    "\n",
    "print(\"Num1= \",Num1)\n",
    "print(\"Num2= \",Num2)\n",
    "print(\"Add= \",Add)"
   ]
  },
  {
   "cell_type": "code",
   "execution_count": 11,
   "id": "088e8d60-37a5-4cfe-8bf2-b29129ec0208",
   "metadata": {},
   "outputs": [
    {
     "name": "stdin",
     "output_type": "stream",
     "text": [
      "Enter the BMI Index:  15\n"
     ]
    },
    {
     "name": "stdout",
     "output_type": "stream",
     "text": [
      "Underweight\n"
     ]
    }
   ],
   "source": [
    "# Task 3\n",
    "\n",
    "BMI = float(input(\"Enter the BMI Index: \"))\n",
    "\n",
    "if (BMI < 18.5) :\n",
    "    print(\"Underweight\")\n",
    "elif (BMI <= 24.9) :\n",
    "    print(\"Normal weight\")\n",
    "elif (BMI <= 29.9) :\n",
    "    print(\"Overweight\")\n",
    "else  :\n",
    "    print(\"Obese\")\n"
   ]
  },
  {
   "cell_type": "code",
   "execution_count": null,
   "id": "52e8d56a-95b7-4d4e-9af1-935babd32731",
   "metadata": {},
   "outputs": [],
   "source": []
  }
 ],
 "metadata": {
  "kernelspec": {
   "display_name": "Python 3 (ipykernel)",
   "language": "python",
   "name": "python3"
  },
  "language_info": {
   "codemirror_mode": {
    "name": "ipython",
    "version": 3
   },
   "file_extension": ".py",
   "mimetype": "text/x-python",
   "name": "python",
   "nbconvert_exporter": "python",
   "pygments_lexer": "ipython3",
   "version": "3.12.4"
  }
 },
 "nbformat": 4,
 "nbformat_minor": 5
}
