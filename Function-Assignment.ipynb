{
 "cells": [
  {
   "cell_type": "code",
   "execution_count": 1,
   "id": "caff054f-0d4c-46af-955b-ff18c376d2e3",
   "metadata": {},
   "outputs": [
    {
     "name": "stdout",
     "output_type": "stream",
     "text": [
      "Sub-fields in AI are:\n",
      "Machine Learning\n",
      "Neural Networks\n",
      "Vision\n",
      "Robotics\n",
      "Speech processing\n",
      "Natural Language Processing\n"
     ]
    }
   ],
   "source": [
    "# list out the items in the list\n",
    "\n",
    "def Subfields():\n",
    "    lists= [\"Machine Learning\", \"Neural Networks\", \"Vision\", \"Robotics\", \"Speech processing\", \"Natural Language Processing\"]\n",
    "    print(\"Sub-fields in AI are:\", end=\"\\n\")\n",
    "\n",
    "    for sub in lists :\n",
    "        print(sub, end=\"\\n\")\n",
    "Subfields()"
   ]
  },
  {
   "cell_type": "code",
   "execution_count": 8,
   "id": "721fa90b-489a-47d7-915a-2e0fae212c29",
   "metadata": {},
   "outputs": [
    {
     "name": "stdin",
     "output_type": "stream",
     "text": [
      "Enter a number: 25\n"
     ]
    },
    {
     "name": "stdout",
     "output_type": "stream",
     "text": [
      "25 is Odd number \n",
      "Odd number\n"
     ]
    }
   ],
   "source": [
    "# Create a function that checks whether the given number is odd or even\n",
    "\n",
    "def OddEven():\n",
    "    num = int(input(\"Enter a number:\"))\n",
    "    if (num%2==0) :\n",
    "        print(num, end=\" is Even number \\n\")\n",
    "        message=\"Even number\"\n",
    "    else:\n",
    "        print(num, end=\" is Odd number \\n\")\n",
    "        message=\"Odd number\"\n",
    "    return message\n",
    "print(OddEven())\n"
   ]
  },
  {
   "cell_type": "code",
   "execution_count": 10,
   "id": "b86af9c7-027f-453d-805d-178ee1b1f1c4",
   "metadata": {},
   "outputs": [
    {
     "name": "stdin",
     "output_type": "stream",
     "text": [
      "Your Gender: female\n",
      "Your Age 19\n"
     ]
    },
    {
     "name": "stdout",
     "output_type": "stream",
     "text": [
      "ELIGIBLE\n"
     ]
    }
   ],
   "source": [
    "# Create a funtion that tells eligiblity of marraige for male and female according to their age limit like 21 for male and 18 for female\n",
    "\n",
    "def Eligible() :\n",
    "    gender = input(\"Your Gender:\")\n",
    "    age = int(input(\"Your Age\"))\n",
    "\n",
    "    if(gender==\"Male\" or gender==\"male\"):\n",
    "        if(age<21) :\n",
    "            message = \"NOT ELIGIBLE\"\n",
    "        else:\n",
    "            message= \"ELIGIBLE\"\n",
    "    else:\n",
    "        if(age<18):\n",
    "            message = \"NOT ELIGIBLE\"\n",
    "        else:\n",
    "            message= \"ELIGIBLE\"\n",
    "    return message\n",
    "\n",
    "message=Eligible()\n",
    "print(message)"
   ]
  },
  {
   "cell_type": "code",
   "execution_count": 13,
   "id": "23b6e24e-a23f-4d05-906a-d647317b2565",
   "metadata": {},
   "outputs": [
    {
     "name": "stdout",
     "output_type": "stream",
     "text": [
      "Subject1: 98\n",
      "Subject2: 87\n",
      "Subject3: 95\n",
      "Subject4: 95\n",
      "Subject5: 93\n",
      "Total: 468\n",
      "Percentage: 93.6\n"
     ]
    }
   ],
   "source": [
    "# Calculate the percentage of your 10th mark\n",
    "\n",
    "def percentage(Subject1, Subject2, Subject3, Subject4, Subject5):\n",
    "    Total = Subject1+Subject2+Subject3+Subject4+Subject5\n",
    "    \n",
    "    Percentage= Total/5\n",
    "    print(\"Subject1:\",Subject1)\n",
    "    print(\"Subject2:\",Subject2)\n",
    "    print(\"Subject3:\",Subject3)\n",
    "    print(\"Subject4:\",Subject4)\n",
    "    print(\"Subject5:\",Subject5)\n",
    "    print(\"Total:\",Total)\n",
    "    print(\"Percentage:\",Percentage)\n",
    "    \n",
    "percentage(98,87,95,95,93)"
   ]
  },
  {
   "cell_type": "code",
   "execution_count": 2,
   "id": "05bdee25-2b6b-4e78-9f19-49add8739fde",
   "metadata": {},
   "outputs": [
    {
     "name": "stdin",
     "output_type": "stream",
     "text": [
      "Height: 32\n",
      "Breadth: 34\n"
     ]
    },
    {
     "name": "stdout",
     "output_type": "stream",
     "text": [
      "Area formula: (Height*Breadth)/2\n",
      "Area of Triangle: 544.0\n"
     ]
    },
    {
     "name": "stdin",
     "output_type": "stream",
     "text": [
      "Height1: 2\n",
      "Height2: 4\n",
      "Breadth: 4\n"
     ]
    },
    {
     "name": "stdout",
     "output_type": "stream",
     "text": [
      "Perimeter formula: Height1+Height2+Breadth\n",
      "Perimeter of Triangle: 10\n"
     ]
    }
   ],
   "source": [
    "# print area and perimeter of triangle using class and functions\n",
    "\n",
    "def triangle():\n",
    "    Height=int(input(\"Height:\"))\n",
    "    Breadth=int(input(\"Breadth:\"))\n",
    "    print(\"Area formula: (Height*Breadth)/2\")\n",
    "    Area= (Height*Breadth)/2\n",
    "    print(\"Area of Triangle:\",Area)\n",
    "    \n",
    "    Height1=int(input(\"Height1:\"))\n",
    "    Height2=int(input(\"Height2:\"))\n",
    "    Breadth=int(input(\"Breadth:\"))\n",
    "    print(\"Perimeter formula: Height1+Height2+Breadth\")\n",
    "    perimeter=Height1+Height2+Breadth\n",
    "    print(\"Perimeter of Triangle:\",perimeter)\n",
    "      \n",
    "triangle()\n",
    "\n",
    "    "
   ]
  },
  {
   "cell_type": "code",
   "execution_count": null,
   "id": "e484b9f8-3368-4b70-86da-acd2dda0ec9b",
   "metadata": {},
   "outputs": [],
   "source": []
  }
 ],
 "metadata": {
  "kernelspec": {
   "display_name": "Python 3 (ipykernel)",
   "language": "python",
   "name": "python3"
  },
  "language_info": {
   "codemirror_mode": {
    "name": "ipython",
    "version": 3
   },
   "file_extension": ".py",
   "mimetype": "text/x-python",
   "name": "python",
   "nbconvert_exporter": "python",
   "pygments_lexer": "ipython3",
   "version": "3.12.4"
  }
 },
 "nbformat": 4,
 "nbformat_minor": 5
}
